{
 "cells": [
  {
   "cell_type": "markdown",
   "id": "820ad725",
   "metadata": {},
   "source": [
    "# Prerequisites"
   ]
  },
  {
   "cell_type": "code",
   "execution_count": 1,
   "id": "e30df38e",
   "metadata": {},
   "outputs": [],
   "source": [
    "import pandas as pd\n",
    "import numpy as np\n",
    "import torch\n",
    "from torch_geometric.data import Data\n",
    "import pickle\n",
    "import os"
   ]
  },
  {
   "cell_type": "markdown",
   "id": "5cc0d40d",
   "metadata": {},
   "source": [
    "# Preprocessing"
   ]
  },
  {
   "cell_type": "code",
   "execution_count": 2,
   "id": "11073fbb",
   "metadata": {},
   "outputs": [],
   "source": [
    "file_path = r\"C:\\Users\\Asus\\Downloads\\TWOSIDES\\TWOSIDES.csv\""
   ]
  },
  {
   "cell_type": "code",
   "execution_count": 3,
   "id": "f90e4fcf",
   "metadata": {},
   "outputs": [],
   "source": [
    "df = pd.read_csv(file_path, dtype=str)"
   ]
  },
  {
   "cell_type": "code",
   "execution_count": 4,
   "id": "88518cc4",
   "metadata": {},
   "outputs": [
    {
     "data": {
      "text/html": [
       "<div>\n",
       "<style scoped>\n",
       "    .dataframe tbody tr th:only-of-type {\n",
       "        vertical-align: middle;\n",
       "    }\n",
       "\n",
       "    .dataframe tbody tr th {\n",
       "        vertical-align: top;\n",
       "    }\n",
       "\n",
       "    .dataframe thead th {\n",
       "        text-align: right;\n",
       "    }\n",
       "</style>\n",
       "<table border=\"1\" class=\"dataframe\">\n",
       "  <thead>\n",
       "    <tr style=\"text-align: right;\">\n",
       "      <th></th>\n",
       "      <th>drug_1_rxnorn_id</th>\n",
       "      <th>drug_1_concept_name</th>\n",
       "      <th>drug_2_rxnorm_id</th>\n",
       "      <th>drug_2_concept_name</th>\n",
       "      <th>condition_meddra_id</th>\n",
       "      <th>condition_concept_name</th>\n",
       "      <th>A</th>\n",
       "      <th>B</th>\n",
       "      <th>C</th>\n",
       "      <th>D</th>\n",
       "      <th>PRR</th>\n",
       "      <th>PRR_error</th>\n",
       "      <th>mean_reporting_frequency</th>\n",
       "    </tr>\n",
       "  </thead>\n",
       "  <tbody>\n",
       "    <tr>\n",
       "      <th>0</th>\n",
       "      <td>10355</td>\n",
       "      <td>Temazepam</td>\n",
       "      <td>136411</td>\n",
       "      <td>sildenafil</td>\n",
       "      <td>10003239</td>\n",
       "      <td>Arthralgia</td>\n",
       "      <td>7</td>\n",
       "      <td>149</td>\n",
       "      <td>24</td>\n",
       "      <td>1536</td>\n",
       "      <td>2.91667</td>\n",
       "      <td>0.421275</td>\n",
       "      <td>0.0448718</td>\n",
       "    </tr>\n",
       "    <tr>\n",
       "      <th>1</th>\n",
       "      <td>1808</td>\n",
       "      <td>Bumetanide</td>\n",
       "      <td>7824</td>\n",
       "      <td>Oxytocin</td>\n",
       "      <td>10003239</td>\n",
       "      <td>Arthralgia</td>\n",
       "      <td>1</td>\n",
       "      <td>13</td>\n",
       "      <td>2</td>\n",
       "      <td>138</td>\n",
       "      <td>5.0</td>\n",
       "      <td>1.19224</td>\n",
       "      <td>0.0714286</td>\n",
       "    </tr>\n",
       "    <tr>\n",
       "      <th>2</th>\n",
       "      <td>221147</td>\n",
       "      <td>POLYETHYLENE GLYCOL 3350</td>\n",
       "      <td>5521</td>\n",
       "      <td>Hydroxychloroquine</td>\n",
       "      <td>10003239</td>\n",
       "      <td>Arthralgia</td>\n",
       "      <td>6</td>\n",
       "      <td>103</td>\n",
       "      <td>20</td>\n",
       "      <td>1070</td>\n",
       "      <td>3.0</td>\n",
       "      <td>0.454505</td>\n",
       "      <td>0.0550459</td>\n",
       "    </tr>\n",
       "    <tr>\n",
       "      <th>3</th>\n",
       "      <td>10324</td>\n",
       "      <td>Tamoxifen</td>\n",
       "      <td>8640</td>\n",
       "      <td>Prednisone</td>\n",
       "      <td>10012735</td>\n",
       "      <td>Diarrhoea</td>\n",
       "      <td>18</td>\n",
       "      <td>123</td>\n",
       "      <td>35</td>\n",
       "      <td>1375</td>\n",
       "      <td>5.14286</td>\n",
       "      <td>0.276271</td>\n",
       "      <td>0.12766</td>\n",
       "    </tr>\n",
       "    <tr>\n",
       "      <th>4</th>\n",
       "      <td>10355</td>\n",
       "      <td>Temazepam</td>\n",
       "      <td>136411</td>\n",
       "      <td>sildenafil</td>\n",
       "      <td>10012735</td>\n",
       "      <td>Diarrhoea</td>\n",
       "      <td>2</td>\n",
       "      <td>154</td>\n",
       "      <td>37</td>\n",
       "      <td>1523</td>\n",
       "      <td>0.540541</td>\n",
       "      <td>0.721093</td>\n",
       "      <td>0.0128205</td>\n",
       "    </tr>\n",
       "  </tbody>\n",
       "</table>\n",
       "</div>"
      ],
      "text/plain": [
       "  drug_1_rxnorn_id       drug_1_concept_name drug_2_rxnorm_id  \\\n",
       "0            10355                 Temazepam           136411   \n",
       "1             1808                Bumetanide             7824   \n",
       "2           221147  POLYETHYLENE GLYCOL 3350             5521   \n",
       "3            10324                 Tamoxifen             8640   \n",
       "4            10355                 Temazepam           136411   \n",
       "\n",
       "  drug_2_concept_name condition_meddra_id condition_concept_name   A    B   C  \\\n",
       "0          sildenafil            10003239             Arthralgia   7  149  24   \n",
       "1            Oxytocin            10003239             Arthralgia   1   13   2   \n",
       "2  Hydroxychloroquine            10003239             Arthralgia   6  103  20   \n",
       "3          Prednisone            10012735              Diarrhoea  18  123  35   \n",
       "4          sildenafil            10012735              Diarrhoea   2  154  37   \n",
       "\n",
       "      D       PRR PRR_error mean_reporting_frequency  \n",
       "0  1536   2.91667  0.421275                0.0448718  \n",
       "1   138       5.0   1.19224                0.0714286  \n",
       "2  1070       3.0  0.454505                0.0550459  \n",
       "3  1375   5.14286  0.276271                  0.12766  \n",
       "4  1523  0.540541  0.721093                0.0128205  "
      ]
     },
     "execution_count": 4,
     "metadata": {},
     "output_type": "execute_result"
    }
   ],
   "source": [
    "df.head()"
   ]
  },
  {
   "cell_type": "code",
   "execution_count": 5,
   "id": "82151e98",
   "metadata": {},
   "outputs": [
    {
     "data": {
      "text/plain": [
       "(42920391, 13)"
      ]
     },
     "execution_count": 5,
     "metadata": {},
     "output_type": "execute_result"
    }
   ],
   "source": [
    "df.shape"
   ]
  },
  {
   "cell_type": "code",
   "execution_count": 6,
   "id": "00b8a6c8",
   "metadata": {},
   "outputs": [
    {
     "data": {
      "text/plain": [
       "drug_1_rxnorn_id            0\n",
       "drug_1_concept_name         0\n",
       "drug_2_rxnorm_id            0\n",
       "drug_2_concept_name         0\n",
       "condition_meddra_id         0\n",
       "condition_concept_name      0\n",
       "A                           0\n",
       "B                           0\n",
       "C                           0\n",
       "D                           0\n",
       "PRR                         0\n",
       "PRR_error                   0\n",
       "mean_reporting_frequency    0\n",
       "dtype: int64"
      ]
     },
     "execution_count": 6,
     "metadata": {},
     "output_type": "execute_result"
    }
   ],
   "source": [
    "df.isnull().sum()"
   ]
  },
  {
   "cell_type": "code",
   "execution_count": 7,
   "id": "79dd348c",
   "metadata": {},
   "outputs": [
    {
     "data": {
      "text/plain": [
       "1000"
      ]
     },
     "execution_count": 7,
     "metadata": {},
     "output_type": "execute_result"
    }
   ],
   "source": [
    "df.duplicated().sum()"
   ]
  },
  {
   "cell_type": "code",
   "execution_count": 8,
   "id": "b8ef53ee",
   "metadata": {},
   "outputs": [],
   "source": [
    "df = df.drop_duplicates(subset=['drug_1_rxnorn_id', 'drug_2_rxnorm_id', 'condition_meddra_id'])"
   ]
  },
  {
   "cell_type": "code",
   "execution_count": 9,
   "id": "02493c01",
   "metadata": {},
   "outputs": [
    {
     "data": {
      "text/plain": [
       "0"
      ]
     },
     "execution_count": 9,
     "metadata": {},
     "output_type": "execute_result"
    }
   ],
   "source": [
    "df.duplicated().sum()"
   ]
  },
  {
   "cell_type": "code",
   "execution_count": 10,
   "id": "407a0f5d",
   "metadata": {},
   "outputs": [
    {
     "data": {
      "text/plain": [
       "(42919391, 13)"
      ]
     },
     "execution_count": 10,
     "metadata": {},
     "output_type": "execute_result"
    }
   ],
   "source": [
    "df.shape"
   ]
  },
  {
   "cell_type": "code",
   "execution_count": 11,
   "id": "1c95f2a9",
   "metadata": {},
   "outputs": [],
   "source": [
    "# Normalize drug pair order to prevent duplication\n",
    "df['min_drug'] = df[['drug_1_rxnorn_id', 'drug_2_rxnorm_id']].min(axis=1)\n",
    "df['max_drug'] = df[['drug_1_rxnorn_id', 'drug_2_rxnorm_id']].max(axis=1)\n",
    "\n",
    "df['drug_1_rxnorn_id'] = df['min_drug']\n",
    "df['drug_2_rxnorm_id'] = df['max_drug']\n",
    "\n",
    "df.drop(['min_drug', 'max_drug'], axis=1, inplace=True)"
   ]
  },
  {
   "cell_type": "code",
   "execution_count": 12,
   "id": "98520fe2",
   "metadata": {},
   "outputs": [
    {
     "name": "stdout",
     "output_type": "stream",
     "text": [
      "<class 'pandas.core.frame.DataFrame'>\n",
      "Index: 42919391 entries, 0 to 42920390\n",
      "Data columns (total 13 columns):\n",
      " #   Column                    Dtype \n",
      "---  ------                    ----- \n",
      " 0   drug_1_rxnorn_id          object\n",
      " 1   drug_1_concept_name       object\n",
      " 2   drug_2_rxnorm_id          object\n",
      " 3   drug_2_concept_name       object\n",
      " 4   condition_meddra_id       object\n",
      " 5   condition_concept_name    object\n",
      " 6   A                         object\n",
      " 7   B                         object\n",
      " 8   C                         object\n",
      " 9   D                         object\n",
      " 10  PRR                       object\n",
      " 11  PRR_error                 object\n",
      " 12  mean_reporting_frequency  object\n",
      "dtypes: object(13)\n",
      "memory usage: 4.5+ GB\n"
     ]
    }
   ],
   "source": [
    "df.info()"
   ]
  },
  {
   "cell_type": "code",
   "execution_count": 13,
   "id": "c4b0c697",
   "metadata": {},
   "outputs": [],
   "source": [
    "# Convert columns to numeric\n",
    "numeric_cols = ['drug_1_rxnorn_id', 'drug_2_rxnorm_id', 'condition_meddra_id',\n",
    "                'A', 'B', 'C', 'D', 'PRR', 'PRR_error', 'mean_reporting_frequency']\n",
    "df[numeric_cols] = df[numeric_cols].apply(pd.to_numeric, errors='coerce')"
   ]
  },
  {
   "cell_type": "code",
   "execution_count": 14,
   "id": "d5b1fd5b",
   "metadata": {},
   "outputs": [],
   "source": [
    "# Filter low-signal interactions\n",
    "df = df[(df['PRR'] > 1.5) & (df['mean_reporting_frequency'] > 0.01)].copy()"
   ]
  },
  {
   "cell_type": "code",
   "execution_count": 15,
   "id": "deca540f",
   "metadata": {},
   "outputs": [],
   "source": [
    "# Keep top 50 most frequent side effects\n",
    "top_n = 50\n",
    "top_side_effects = df['condition_meddra_id'].value_counts().head(top_n).index.tolist()\n",
    "df = df[df['condition_meddra_id'].isin(top_side_effects)].copy()"
   ]
  },
  {
   "cell_type": "markdown",
   "id": "3cfa5b15",
   "metadata": {},
   "source": [
    "# Creating the Graph"
   ]
  },
  {
   "cell_type": "code",
   "execution_count": 16,
   "id": "cd7626c7",
   "metadata": {},
   "outputs": [],
   "source": [
    "# Group side effects per drug pair (multi-label setup)\n",
    "edge_df = df.groupby(['drug_1_rxnorn_id', 'drug_2_rxnorm_id'])['condition_meddra_id'].apply(set)\n",
    "edge_dict = edge_df.to_dict()"
   ]
  },
  {
   "cell_type": "code",
   "execution_count": 17,
   "id": "11ecd161",
   "metadata": {},
   "outputs": [],
   "source": [
    "# Map drugs and side effects to consecutive indices\n",
    "all_drugs = set([d for pair in edge_dict.keys() for d in pair])\n",
    "drug2idx = {drug: idx for idx, drug in enumerate(sorted(all_drugs))}"
   ]
  },
  {
   "cell_type": "code",
   "execution_count": 18,
   "id": "014105e5",
   "metadata": {},
   "outputs": [],
   "source": [
    "all_side_effects = set([se for se_list in edge_dict.values() for se in se_list])\n",
    "se2idx = {se: idx for idx, se in enumerate(sorted(all_side_effects))}"
   ]
  },
  {
   "cell_type": "code",
   "execution_count": 19,
   "id": "41a1ca83",
   "metadata": {},
   "outputs": [],
   "source": [
    "# Build edge_index and labels\n",
    "edge_index = []\n",
    "labels = []\n",
    "\n",
    "for (d1, d2), se_set in edge_dict.items():\n",
    "    edge_index.append([drug2idx[d1], drug2idx[d2]])\n",
    "    \n",
    "    label = np.zeros(len(se2idx), dtype=np.float32)\n",
    "    for se in se_set:\n",
    "        label[se2idx[se]] = 1.0\n",
    "    labels.append(label)"
   ]
  },
  {
   "cell_type": "code",
   "execution_count": 20,
   "id": "580f8c1f",
   "metadata": {},
   "outputs": [],
   "source": [
    "edge_index = torch.tensor(edge_index).t().contiguous()\n",
    "labels = torch.tensor(np.array(labels)) "
   ]
  },
  {
   "cell_type": "code",
   "execution_count": 22,
   "id": "bf6ff945",
   "metadata": {},
   "outputs": [],
   "source": [
    "data = Data(edge_index=edge_index, y=labels, num_nodes=len(drug2idx))"
   ]
  },
  {
   "cell_type": "code",
   "execution_count": 27,
   "id": "99374557",
   "metadata": {},
   "outputs": [],
   "source": [
    "# Save the graph\n",
    "\n",
    "base_dir = os.path.abspath(os.path.join(os.getcwd(), '..'))\n",
    "\n",
    "processed_dir = os.path.join(base_dir, 'processed')\n",
    "os.makedirs(processed_dir, exist_ok=True)\n",
    "\n",
    "torch.save(data, os.path.join(processed_dir, 'ddi_graph.pt'))\n"
   ]
  },
  {
   "cell_type": "code",
   "execution_count": 29,
   "id": "c786cce7",
   "metadata": {},
   "outputs": [],
   "source": [
    "with open('processed/drug2idx.pkl', 'wb') as f:\n",
    "    pickle.dump(drug2idx, f)\n",
    "\n",
    "with open('processed/se2idx.pkl', 'wb') as f:\n",
    "    pickle.dump(se2idx, f)"
   ]
  },
  {
   "cell_type": "code",
   "execution_count": null,
   "id": "af580728",
   "metadata": {},
   "outputs": [],
   "source": []
  }
 ],
 "metadata": {
  "kernelspec": {
   "display_name": "Python 3",
   "language": "python",
   "name": "python3"
  },
  "language_info": {
   "codemirror_mode": {
    "name": "ipython",
    "version": 3
   },
   "file_extension": ".py",
   "mimetype": "text/x-python",
   "name": "python",
   "nbconvert_exporter": "python",
   "pygments_lexer": "ipython3",
   "version": "3.10.16"
  }
 },
 "nbformat": 4,
 "nbformat_minor": 5
}
