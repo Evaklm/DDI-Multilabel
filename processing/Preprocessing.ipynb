{
 "cells": [
  {
   "cell_type": "markdown",
   "id": "820ad725",
   "metadata": {},
   "source": [
    "# Prerequisites"
   ]
  },
  {
   "cell_type": "code",
   "execution_count": 37,
   "id": "e30df38e",
   "metadata": {},
   "outputs": [],
   "source": [
    "import pandas as pd\n",
    "import numpy as np\n",
    "from collections import defaultdict\n",
    "import torch"
   ]
  },
  {
   "cell_type": "markdown",
   "id": "5cc0d40d",
   "metadata": {},
   "source": [
    "# Dataset"
   ]
  },
  {
   "cell_type": "code",
   "execution_count": 45,
   "id": "11073fbb",
   "metadata": {},
   "outputs": [],
   "source": [
    "file_path = r\"C:\\Users\\Asus\\Downloads\\TWOSIDES\\TWOSIDES.csv\""
   ]
  },
  {
   "cell_type": "code",
   "execution_count": null,
   "id": "f90e4fcf",
   "metadata": {},
   "outputs": [],
   "source": [
    "df = pd.read_csv(file_path, dtype=str)"
   ]
  },
  {
   "cell_type": "code",
   "execution_count": 56,
   "id": "88518cc4",
   "metadata": {},
   "outputs": [
    {
     "data": {
      "text/html": [
       "<div>\n",
       "<style scoped>\n",
       "    .dataframe tbody tr th:only-of-type {\n",
       "        vertical-align: middle;\n",
       "    }\n",
       "\n",
       "    .dataframe tbody tr th {\n",
       "        vertical-align: top;\n",
       "    }\n",
       "\n",
       "    .dataframe thead th {\n",
       "        text-align: right;\n",
       "    }\n",
       "</style>\n",
       "<table border=\"1\" class=\"dataframe\">\n",
       "  <thead>\n",
       "    <tr style=\"text-align: right;\">\n",
       "      <th></th>\n",
       "      <th>drug_1_rxnorn_id</th>\n",
       "      <th>drug_1_concept_name</th>\n",
       "      <th>drug_2_rxnorm_id</th>\n",
       "      <th>drug_2_concept_name</th>\n",
       "      <th>condition_meddra_id</th>\n",
       "      <th>condition_concept_name</th>\n",
       "      <th>A</th>\n",
       "      <th>B</th>\n",
       "      <th>C</th>\n",
       "      <th>D</th>\n",
       "      <th>PRR</th>\n",
       "      <th>PRR_error</th>\n",
       "      <th>mean_reporting_frequency</th>\n",
       "    </tr>\n",
       "  </thead>\n",
       "  <tbody>\n",
       "    <tr>\n",
       "      <th>0</th>\n",
       "      <td>10355</td>\n",
       "      <td>Temazepam</td>\n",
       "      <td>136411</td>\n",
       "      <td>sildenafil</td>\n",
       "      <td>10003239</td>\n",
       "      <td>Arthralgia</td>\n",
       "      <td>7</td>\n",
       "      <td>149</td>\n",
       "      <td>24</td>\n",
       "      <td>1536</td>\n",
       "      <td>2.91667</td>\n",
       "      <td>0.421275</td>\n",
       "      <td>0.0448718</td>\n",
       "    </tr>\n",
       "    <tr>\n",
       "      <th>1</th>\n",
       "      <td>1808</td>\n",
       "      <td>Bumetanide</td>\n",
       "      <td>7824</td>\n",
       "      <td>Oxytocin</td>\n",
       "      <td>10003239</td>\n",
       "      <td>Arthralgia</td>\n",
       "      <td>1</td>\n",
       "      <td>13</td>\n",
       "      <td>2</td>\n",
       "      <td>138</td>\n",
       "      <td>5.0</td>\n",
       "      <td>1.19224</td>\n",
       "      <td>0.0714286</td>\n",
       "    </tr>\n",
       "    <tr>\n",
       "      <th>2</th>\n",
       "      <td>221147</td>\n",
       "      <td>POLYETHYLENE GLYCOL 3350</td>\n",
       "      <td>5521</td>\n",
       "      <td>Hydroxychloroquine</td>\n",
       "      <td>10003239</td>\n",
       "      <td>Arthralgia</td>\n",
       "      <td>6</td>\n",
       "      <td>103</td>\n",
       "      <td>20</td>\n",
       "      <td>1070</td>\n",
       "      <td>3.0</td>\n",
       "      <td>0.454505</td>\n",
       "      <td>0.0550459</td>\n",
       "    </tr>\n",
       "    <tr>\n",
       "      <th>3</th>\n",
       "      <td>10324</td>\n",
       "      <td>Tamoxifen</td>\n",
       "      <td>8640</td>\n",
       "      <td>Prednisone</td>\n",
       "      <td>10012735</td>\n",
       "      <td>Diarrhoea</td>\n",
       "      <td>18</td>\n",
       "      <td>123</td>\n",
       "      <td>35</td>\n",
       "      <td>1375</td>\n",
       "      <td>5.14286</td>\n",
       "      <td>0.276271</td>\n",
       "      <td>0.12766</td>\n",
       "    </tr>\n",
       "    <tr>\n",
       "      <th>4</th>\n",
       "      <td>10355</td>\n",
       "      <td>Temazepam</td>\n",
       "      <td>136411</td>\n",
       "      <td>sildenafil</td>\n",
       "      <td>10012735</td>\n",
       "      <td>Diarrhoea</td>\n",
       "      <td>2</td>\n",
       "      <td>154</td>\n",
       "      <td>37</td>\n",
       "      <td>1523</td>\n",
       "      <td>0.540541</td>\n",
       "      <td>0.721093</td>\n",
       "      <td>0.0128205</td>\n",
       "    </tr>\n",
       "  </tbody>\n",
       "</table>\n",
       "</div>"
      ],
      "text/plain": [
       "  drug_1_rxnorn_id       drug_1_concept_name drug_2_rxnorm_id  \\\n",
       "0            10355                 Temazepam           136411   \n",
       "1             1808                Bumetanide             7824   \n",
       "2           221147  POLYETHYLENE GLYCOL 3350             5521   \n",
       "3            10324                 Tamoxifen             8640   \n",
       "4            10355                 Temazepam           136411   \n",
       "\n",
       "  drug_2_concept_name condition_meddra_id condition_concept_name   A    B   C  \\\n",
       "0          sildenafil            10003239             Arthralgia   7  149  24   \n",
       "1            Oxytocin            10003239             Arthralgia   1   13   2   \n",
       "2  Hydroxychloroquine            10003239             Arthralgia   6  103  20   \n",
       "3          Prednisone            10012735              Diarrhoea  18  123  35   \n",
       "4          sildenafil            10012735              Diarrhoea   2  154  37   \n",
       "\n",
       "      D       PRR PRR_error mean_reporting_frequency  \n",
       "0  1536   2.91667  0.421275                0.0448718  \n",
       "1   138       5.0   1.19224                0.0714286  \n",
       "2  1070       3.0  0.454505                0.0550459  \n",
       "3  1375   5.14286  0.276271                  0.12766  \n",
       "4  1523  0.540541  0.721093                0.0128205  "
      ]
     },
     "execution_count": 56,
     "metadata": {},
     "output_type": "execute_result"
    }
   ],
   "source": [
    "df.head()"
   ]
  },
  {
   "cell_type": "code",
   "execution_count": 58,
   "id": "82151e98",
   "metadata": {},
   "outputs": [
    {
     "data": {
      "text/plain": [
       "(42920391, 13)"
      ]
     },
     "execution_count": 58,
     "metadata": {},
     "output_type": "execute_result"
    }
   ],
   "source": [
    "df.shape"
   ]
  },
  {
   "cell_type": "code",
   "execution_count": 57,
   "id": "00b8a6c8",
   "metadata": {},
   "outputs": [
    {
     "data": {
      "text/plain": [
       "drug_1_rxnorn_id            0\n",
       "drug_1_concept_name         0\n",
       "drug_2_rxnorm_id            0\n",
       "drug_2_concept_name         0\n",
       "condition_meddra_id         0\n",
       "condition_concept_name      0\n",
       "A                           0\n",
       "B                           0\n",
       "C                           0\n",
       "D                           0\n",
       "PRR                         0\n",
       "PRR_error                   0\n",
       "mean_reporting_frequency    0\n",
       "dtype: int64"
      ]
     },
     "execution_count": 57,
     "metadata": {},
     "output_type": "execute_result"
    }
   ],
   "source": [
    "df.isnull().sum()"
   ]
  },
  {
   "cell_type": "code",
   "execution_count": 60,
   "id": "79dd348c",
   "metadata": {},
   "outputs": [
    {
     "data": {
      "text/plain": [
       "np.int64(1000)"
      ]
     },
     "execution_count": 60,
     "metadata": {},
     "output_type": "execute_result"
    }
   ],
   "source": [
    "df.duplicated().sum()"
   ]
  },
  {
   "cell_type": "code",
   "execution_count": 64,
   "id": "b8ef53ee",
   "metadata": {},
   "outputs": [],
   "source": [
    "df = df.drop_duplicates(subset=['drug_1_rxnorn_id', 'drug_2_rxnorm_id', 'condition_meddra_id'])"
   ]
  },
  {
   "cell_type": "code",
   "execution_count": 65,
   "id": "02493c01",
   "metadata": {},
   "outputs": [
    {
     "data": {
      "text/plain": [
       "np.int64(0)"
      ]
     },
     "execution_count": 65,
     "metadata": {},
     "output_type": "execute_result"
    }
   ],
   "source": [
    "df.duplicated().sum()"
   ]
  },
  {
   "cell_type": "code",
   "execution_count": 66,
   "id": "407a0f5d",
   "metadata": {},
   "outputs": [
    {
     "data": {
      "text/plain": [
       "(42919391, 13)"
      ]
     },
     "execution_count": 66,
     "metadata": {},
     "output_type": "execute_result"
    }
   ],
   "source": [
    "df.shape"
   ]
  },
  {
   "cell_type": "code",
   "execution_count": 67,
   "id": "98520fe2",
   "metadata": {},
   "outputs": [
    {
     "name": "stdout",
     "output_type": "stream",
     "text": [
      "<class 'pandas.core.frame.DataFrame'>\n",
      "Index: 42919391 entries, 0 to 42920390\n",
      "Data columns (total 13 columns):\n",
      " #   Column                    Dtype \n",
      "---  ------                    ----- \n",
      " 0   drug_1_rxnorn_id          object\n",
      " 1   drug_1_concept_name       object\n",
      " 2   drug_2_rxnorm_id          object\n",
      " 3   drug_2_concept_name       object\n",
      " 4   condition_meddra_id       object\n",
      " 5   condition_concept_name    object\n",
      " 6   A                         object\n",
      " 7   B                         object\n",
      " 8   C                         object\n",
      " 9   D                         object\n",
      " 10  PRR                       object\n",
      " 11  PRR_error                 object\n",
      " 12  mean_reporting_frequency  object\n",
      "dtypes: object(13)\n",
      "memory usage: 4.5+ GB\n"
     ]
    }
   ],
   "source": [
    "df.info()"
   ]
  },
  {
   "cell_type": "code",
   "execution_count": null,
   "id": "c4b0c697",
   "metadata": {},
   "outputs": [
    {
     "name": "stderr",
     "output_type": "stream",
     "text": [
      "C:\\Users\\Asus\\AppData\\Local\\Temp\\ipykernel_19948\\3926647545.py:4: SettingWithCopyWarning: \n",
      "A value is trying to be set on a copy of a slice from a DataFrame.\n",
      "Try using .loc[row_indexer,col_indexer] = value instead\n",
      "\n",
      "See the caveats in the documentation: https://pandas.pydata.org/pandas-docs/stable/user_guide/indexing.html#returning-a-view-versus-a-copy\n",
      "  df[col] = pd.to_numeric(df[col], errors='coerce')\n"
     ]
    }
   ],
   "source": [
    "df = df.copy()  # Make a deep copy to break the link to the original DataFrame\n",
    "\n",
    "for col in numeric_cols:\n",
    "    df[col] = pd.to_numeric(df[col], errors='coerce')"
   ]
  },
  {
   "cell_type": "code",
   "execution_count": null,
   "id": "d5b1fd5b",
   "metadata": {},
   "outputs": [],
   "source": [
    "# Filter low-signal pairs and removing rare reports\n",
    "df = df[(df['PRR'] > 1.5) & (df['mean_reporting_frequency'] > 0.01)].copy()"
   ]
  }
 ],
 "metadata": {
  "kernelspec": {
   "display_name": "Python 3",
   "language": "python",
   "name": "python3"
  },
  "language_info": {
   "codemirror_mode": {
    "name": "ipython",
    "version": 3
   },
   "file_extension": ".py",
   "mimetype": "text/x-python",
   "name": "python",
   "nbconvert_exporter": "python",
   "pygments_lexer": "ipython3",
   "version": "3.10.16"
  }
 },
 "nbformat": 4,
 "nbformat_minor": 5
}
